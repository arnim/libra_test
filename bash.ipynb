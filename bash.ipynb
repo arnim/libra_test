{
 "cells": [
  {
   "cell_type": "markdown",
   "metadata": {},
   "source": [
    "Bash is a language is used to manage your computer.  It is useful tasks like installing and running programs, or moving and creating files.  We would like to learn it because will help us run our Python programs and manage our Python environment."
   ]
  },
  {
   "cell_type": "markdown",
   "metadata": {},
   "source": [
    "Find bash on your computer, or through repl.it!  \n",
    "Go to https://repl.it/languages/Python3, Hit F1, then enter `open shell`"
   ]
  },
  {
   "cell_type": "markdown",
   "metadata": {},
   "source": [
    "pwd"
   ]
  },
  {
   "cell_type": "code",
   "execution_count": null,
   "metadata": {},
   "outputs": [],
   "source": [
    "ls"
   ]
  },
  {
   "cell_type": "code",
   "execution_count": null,
   "metadata": {},
   "outputs": [],
   "source": [
    "ls -a"
   ]
  },
  {
   "cell_type": "code",
   "execution_count": null,
   "metadata": {},
   "outputs": [],
   "source": [
    "ls --help"
   ]
  },
  {
   "cell_type": "code",
   "execution_count": null,
   "metadata": {},
   "outputs": [],
   "source": [
    "man ls"
   ]
  },
  {
   "cell_type": "markdown",
   "metadata": {},
   "source": [
    "### Exploring More `ls` Flags\n",
    "You can also use two options at the same time.  What does the command `ls` do when used with the `-l` option?  What about if you use both the `-l` and the `-h` option?\n",
    "\n",
    "Some of it's output is about properties that we do not cover in this lesson (such as file permissions and ownership), but the rest should be userful nevertheless."
   ]
  },
  {
   "cell_type": "markdown",
   "metadata": {},
   "source": [
    "### Listing Recursively and By Time\n",
    "The command `ls -R` lists the contents of directories recursively, i.e, lists their sub-directories, sub-sub-directories, and so on at each level.  The command `ls -t` lists things by time of last change, with most recently changed files or directories first.  In what order does `ls -R -t` display things?\n",
    "\n",
    "Hint: `ls -l` uses a long listing format to view timestamps"
   ]
  },
  {
   "cell_type": "code",
   "execution_count": null,
   "metadata": {},
   "outputs": [],
   "source": [
    "mkdir"
   ]
  },
  {
   "cell_type": "code",
   "execution_count": null,
   "metadata": {},
   "outputs": [],
   "source": [
    "cd"
   ]
  },
  {
   "cell_type": "code",
   "execution_count": null,
   "metadata": {},
   "outputs": [],
   "source": [
    "cd ~"
   ]
  },
  {
   "cell_type": "code",
   "execution_count": null,
   "metadata": {},
   "outputs": [],
   "source": [
    "cd -"
   ]
  },
  {
   "cell_type": "markdown",
   "metadata": {},
   "source": [
    "### Absolute vs Relative Paths\n",
    "Starting from `/Users/amanda/data`, which of the following commands could Amanda use to navigate to her home directory, which is `/Users/amanda`?\n",
    "1. `cd .`\n",
    "2. `cd /`\n",
    "3. `cd /home/amanda`\n",
    "4. `cd ../..`\n",
    "5. `cd ~`\n",
    "6. `cd home`\n",
    "7. `cd ~/data/..`\n",
    "8. `cd`\n",
    "9. `cd ..`"
   ]
  },
  {
   "cell_type": "markdown",
   "metadata": {},
   "source": [
    "### Relative Path Resolution\n",
    "Using the filesystem below, if `pwd` displays `/Users/thing`, what will ls ../backup display?\n",
    "\n",
    ">Users/  \n",
    "&nbsp;&nbsp;&nbsp;&nbsp;thing/  \n",
    "&nbsp;&nbsp;&nbsp;&nbsp;&nbsp;&nbsp;&nbsp;&nbsp;backup/  \n",
    "&nbsp;&nbsp;&nbsp;&nbsp;&nbsp;&nbsp;&nbsp;&nbsp;&nbsp;&nbsp;&nbsp;&nbsp;2012-12-01/  \n",
    "&nbsp;&nbsp;&nbsp;&nbsp;&nbsp;&nbsp;&nbsp;&nbsp;&nbsp;&nbsp;&nbsp;&nbsp;2013-01-08/  \n",
    "&nbsp;&nbsp;&nbsp;&nbsp;&nbsp;&nbsp;&nbsp;&nbsp;&nbsp;&nbsp;&nbsp;&nbsp;2013-01-27/  \n",
    "&nbsp;&nbsp;&nbsp;&nbsp;backup/  \n",
    "&nbsp;&nbsp;&nbsp;&nbsp;&nbsp;&nbsp;&nbsp;&nbsp;original/  \n",
    "&nbsp;&nbsp;&nbsp;&nbsp;&nbsp;&nbsp;&nbsp;&nbsp;pnas_final/  \n",
    "&nbsp;&nbsp;&nbsp;&nbsp;&nbsp;&nbsp;&nbsp;&nbsp;pnas_sub/  \n",
    "\n"
   ]
  },
  {
   "cell_type": "markdown",
   "metadata": {},
   "source": [
    "### `ls` Reading Comprehension\n",
    "Using the filesystem diagram below, if `pwd` displays `/Users/backup`, and `-r` tells `ls` to display things in reverse order, what command(s) will result in the following output:\n",
    "> pnas_sub/ pnas_final/ original/\n",
    "\n",
    "Given filesystem\n",
    "\n",
    ">Users/  \n",
    "&nbsp;&nbsp;&nbsp;&nbsp;thing/  \n",
    "&nbsp;&nbsp;&nbsp;&nbsp;&nbsp;&nbsp;&nbsp;&nbsp;backup/  \n",
    "&nbsp;&nbsp;&nbsp;&nbsp;&nbsp;&nbsp;&nbsp;&nbsp;&nbsp;&nbsp;&nbsp;&nbsp;2012-12-01/  \n",
    "&nbsp;&nbsp;&nbsp;&nbsp;&nbsp;&nbsp;&nbsp;&nbsp;&nbsp;&nbsp;&nbsp;&nbsp;2013-01-08/  \n",
    "&nbsp;&nbsp;&nbsp;&nbsp;&nbsp;&nbsp;&nbsp;&nbsp;&nbsp;&nbsp;&nbsp;&nbsp;2013-01-27/  \n",
    "&nbsp;&nbsp;&nbsp;&nbsp;backup/  \n",
    "&nbsp;&nbsp;&nbsp;&nbsp;&nbsp;&nbsp;&nbsp;&nbsp;original/  \n",
    "&nbsp;&nbsp;&nbsp;&nbsp;&nbsp;&nbsp;&nbsp;&nbsp;pnas_final/  \n",
    "&nbsp;&nbsp;&nbsp;&nbsp;&nbsp;&nbsp;&nbsp;&nbsp;pnas_sub/  \n",
    "1. `ls pwd`\n",
    "2. `ls -r`\n",
    "3. `ls -r /Users/backup`"
   ]
  },
  {
   "cell_type": "markdown",
   "metadata": {},
   "source": [
    "### Creating Files a Different Way\n",
    "Instead of creating a file with your editor, try the following command\n",
    "```\n",
    "touch my_file.txt\n",
    "```\n",
    "\n",
    "1.  What did the `touch` command do?  When you look at your current directory using `ls`, does the file show up?\n",
    "2. Use `ls -l` to inspect the files.  How large is `my_file.txt`?\n",
    "3. When might you want to create a file this way?"
   ]
  },
  {
   "cell_type": "code",
   "execution_count": null,
   "metadata": {},
   "outputs": [],
   "source": [
    "mv"
   ]
  },
  {
   "cell_type": "markdown",
   "metadata": {},
   "source": [
    "### Moving to the Current Folder\n",
    "After running the following commands, Jamie reealizes that she put the files `sucrose.dat` and `maltose.dat` into the wrong folder:\n",
    "\n",
    "```\n",
    "> ls\n",
    "analyzed/ raw/\n",
    "> ls analyzed\n",
    "fructose.dat glucose.dat maltose.dat sucrose.dat\n",
    "> cd raw\n",
    "```\n",
    "\n",
    "Fill in the blanks to move these files to the current folder (i.e., the one she is currently in):\n",
    "\n",
    "```\n",
    "> mv ____/sucrose.dat ___/maltose.dat ___\n",
    "```"
   ]
  },
  {
   "cell_type": "code",
   "execution_count": null,
   "metadata": {},
   "outputs": [],
   "source": [
    "cp"
   ]
  },
  {
   "cell_type": "markdown",
   "metadata": {},
   "source": [
    "### Renaming Files\n",
    "Suppose that you created a plain-text file in your current directory to contain a list of the statistical tests you will need to do to analyze your data, and named it: `statstics.txt`\n",
    "\n",
    "After creating and saving this file you realize you misspelled the filename!  You want to correct the mistake, which of the following commands could you use to do so?\n",
    "\n",
    "1. `cp statstics.txt statistics.txt`\n",
    "2. `mv statstics.txt statistics.txt`\n",
    "3. `mv statstics.txt .`\n",
    "4. `cp statstics.txt .`"
   ]
  },
  {
   "cell_type": "markdown",
   "metadata": {},
   "source": [
    "### Moving and Copying\n",
    "What is the output of the closeing `ls` command in the sequence shown below?\n",
    "```\n",
    "> pwd  \n",
    "/Users/jamie/data  \n",
    "> ls  \n",
    "proteins.dat  \n",
    "> mkdir recombine  \n",
    "> mv proteins.dat recombine/  \n",
    "> cp recombine/proteins.dat ../proteins-saved.dat  \n",
    "> ls \n",
    "```"
   ]
  },
  {
   "cell_type": "code",
   "execution_count": null,
   "metadata": {},
   "outputs": [],
   "source": [
    "rm"
   ]
  },
  {
   "cell_type": "markdown",
   "metadata": {},
   "source": [
    "### Using `rm` Safely\n",
    "What happens when we execute `rm -i thesis_backup/quotations.txt`?  Why would we want this protections when using rm?"
   ]
  },
  {
   "cell_type": "markdown",
   "metadata": {},
   "source": [
    "### Copy with Multiple Filenames\n",
    "For this exercise, you can test the commands in the `data-shell/data` directory.\n",
    "\n",
    "In the example below, what does `cp` do when given several filenames and a directory name?\n",
    "```\n",
    "> mkdir backup\n",
    "> cp amino-acids.txt animals.txt backup/\n",
    "```\n",
    "\n",
    "In the example below, what does `cp` do when given three or more file names?\n",
    "\n",
    "```\n",
    "> ls\n",
    "animno-acids.txt animals.txt backup/ elements/ morse.txt pdb/ planets.txt salmon.txt sunspot.txt\n",
    "> cp amino-acids.txt animals.txt morse.txt\n",
    "```"
   ]
  },
  {
   "cell_type": "markdown",
   "metadata": {},
   "source": [
    "Wildcards"
   ]
  },
  {
   "cell_type": "markdown",
   "metadata": {},
   "source": [
    "# List filenames matching a pattern"
   ]
  },
  {
   "cell_type": "markdown",
   "metadata": {},
   "source": [
    "# More on Wildcards"
   ]
  },
  {
   "cell_type": "markdown",
   "metadata": {},
   "source": [
    "# Organizing Directories and Files"
   ]
  },
  {
   "cell_type": "markdown",
   "metadata": {},
   "source": [
    "# Reproduce a folder structure"
   ]
  },
  {
   "cell_type": "markdown",
   "metadata": {},
   "source": [
    "wc"
   ]
  },
  {
   "cell_type": "markdown",
   "metadata": {},
   "source": [
    "\\>"
   ]
  },
  {
   "cell_type": "markdown",
   "metadata": {},
   "source": [
    "cat"
   ]
  },
  {
   "cell_type": "markdown",
   "metadata": {},
   "source": [
    "# What Does `sort -n` Do?\n",
    "If we run `sort` on a file containing the following lines:\n",
    ">10  \n",
    "2  \n",
    "19  \n",
    "22  \n",
    "6  \n",
    "\n",
    "The output is:\n",
    ">10  \n",
    "19  \n",
    "2  \n",
    "22  \n",
    "6  \n",
    "\n",
    "If we run sort -n on the same input, we get this instead:\n",
    ">2  \n",
    "6  \n",
    "10  \n",
    "19  \n",
    "22  \n",
    "\n",
    "Explain why `-n` has this effect."
   ]
  },
  {
   "cell_type": "markdown",
   "metadata": {},
   "source": [
    "### What does `>>` Mean?\n",
    "We have seen the use of `>`, but there is a similar operator `>>` which works slightly differently.  We'll learn about the differences between these two operators by printing some strings.  We can use the `echo` command to print strings e.g.\n",
    "```\n",
    "> echo The echo command prints text\n",
    "The echo command prints text\n",
    "```\n",
    "Now test the commands below to reveal the difference between the two operators:\n",
    "```\n",
    "> echo hello > testfile01.txt\n",
    "```\n",
    "and:\n",
    "```\n",
    "echo hello >> testfile02.txt\n",
    "```\n",
    "Hint: Try executing each command twice in a row and then examining the output files."
   ]
  },
  {
   "cell_type": "markdown",
   "metadata": {},
   "source": [
    "### Appending Data\n",
    "We have already met the `head` command, which prints lines from the start of a file.  `tail` is similar, but prints lines from the end of a file instead.\n",
    "\n",
    "Consider the file `data-shell/data/animals.txt`.  After these commands, select the answer that corresponds to the file `animals-subset.txt`:\n",
    "```\n",
    "> head -n 3 animals.txt > animals-subset.txt\n",
    "> tail -n 2 animals.txt >> animals-subset.txt\n",
    "```\n",
    "\n",
    "1. The first three lines of `animals.txt`\n",
    "2. The last two lines of `animals.txt`\n",
    "3. The first three lines and the last two lines of `animals.txt`\n",
    "4. The second and third lines of `animals.txt`"
   ]
  },
  {
   "cell_type": "markdown",
   "metadata": {},
   "source": [
    "### Piping Commands Together\n",
    "In our current directory, we want to find the 3 files which have the least number of lines.  Which command listed below would work?\n",
    "\n",
    "1. `wc -l * > sort -n > head -n 3`\n",
    "2. `wc -l * | sort -n | head -n 1-3`\n",
    "3. `wc -l * | head -n 3 | sort -n`\n",
    "4. `wc -l * | sort -n | head -n 3`"
   ]
  },
  {
   "cell_type": "markdown",
   "metadata": {},
   "source": [
    "### Pipe Reading Comprehension\n",
    "A file called `animals.txt` (in the `data-shell/data` folder) contains the following data:\n",
    "> 2012-11-05,deer  \n",
    "2012-11-05,rabbit  \n",
    "2012-11-05,raccoon  \n",
    "2012-11-06,rabbit  \n",
    "2012-11-06,deer  \n",
    "2012-11-06,fox  \n",
    "2012-11-07,rabbit  \n",
    "2012-11-07,bear  \n",
    "\n",
    "What text passes through each of the pipes and the final redirect in the pipeline below?\n",
    "\n",
    "```\n",
    "> cat animals.txt | head -n 5 | tail -n 3 | sort -r > final.txt\n",
    "```\n",
    "Hint: build the pipeline up one command at a time to test your understanding"
   ]
  },
  {
   "cell_type": "markdown",
   "metadata": {},
   "source": [
    "### Pipe Construction\n",
    "For the file `animals.txt` from the previous exercise, the command:\n",
    "```\n",
    "> cut -d, -f 2 animals.txt\n",
    "```\n",
    "uses the `-d` option to split each line by comma, and the `-f` option to print the second field in each line, to give the following output:\n",
    "```\n",
    "deer\n",
    "rabbit\n",
    "raccoon\n",
    "rabbit\n",
    "deer\n",
    "fox\n",
    "rabbit\n",
    "bear\n",
    "```\n",
    "What other command(s) could be added to this in a pipeline to find out what animals the file contains (without any duplicates in their names)?"
   ]
  },
  {
   "cell_type": "markdown",
   "metadata": {},
   "source": [
    "### Which Pipe?\n",
    "The file `animals.txt` contains 8 lines of data formatted as follows\n",
    "```\n",
    "2012-11-05,deer\n",
    "2012-11-05,rabbit\n",
    "2012-11-05,raccoon\n",
    "2012-11-06,rabbit\n",
    "...\n",
    "```\n",
    "Assuming your current directory is `data-shell/data/`, what command would you use to produce a tabel that shows the total count of each type of animal in the file?\n",
    "\n",
    "1. `grep {deer, rabbit, raccoon, deer, fox, bear} animals.txt | wc -l`\n",
    "2. `sort animals.txt | uniq -c`\n",
    "3. `sort -t, -k2,2 animals.txt | uniq -c`\n",
    "4. `cut -d, -f 2 animals.txt | uniq -c`\n",
    "5. `cut -d, -f 2 animals.txt | sort | uniq -c`\n",
    "6. `cut -d, -f 2 animals.txt | sort | uniq -c | wc -l`"
   ]
  },
  {
   "cell_type": "code",
   "execution_count": null,
   "metadata": {},
   "outputs": [],
   "source": [
    "redirects 2>&1"
   ]
  }
 ],
 "metadata": {
  "kernelspec": {
   "display_name": "Calysto Bash",
   "language": "bash",
   "name": "calysto_bash"
  },
  "language_info": {
   "file_extension": ".sh",
   "help_links": [
    {
     "text": "MetaKernel Magics",
     "url": "https://metakernel.readthedocs.io/en/latest/source/README.html"
    }
   ],
   "mimetype": "text/x-sh",
   "name": "bash",
   "version": "0.2.1"
  }
 },
 "nbformat": 4,
 "nbformat_minor": 2
}
